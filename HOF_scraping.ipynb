{
 "cells": [
  {
   "cell_type": "code",
   "execution_count": 142,
   "metadata": {},
   "outputs": [],
   "source": [
    "import requests\n",
    "from bs4 import BeautifulSoup  \n",
    "import pandas as pd\n",
    "#adding from tutorial https://betterprogramming.pub/how-to-scrape-multiple-pages-of-a-website-using-a-python-web-scraper-4e2c641cff8\n",
    "from time import sleep\n",
    "from random import randint\n",
    "import numpy as np"
   ]
  },
  {
   "cell_type": "code",
   "execution_count": 91,
   "metadata": {},
   "outputs": [
    {
     "data": {
      "text/plain": [
       "200"
      ]
     },
     "execution_count": 91,
     "metadata": {},
     "output_type": "execute_result"
    }
   ],
   "source": [
    "#read the page into Python\n",
    "website_url = 'https://countrymusichalloffame.org/hall-of-fame/members/'\n",
    "response = requests.get(website_url)\n",
    "\n",
    "response.status_code"
   ]
  },
  {
   "cell_type": "code",
   "execution_count": 90,
   "metadata": {},
   "outputs": [
    {
     "name": "stdout",
     "output_type": "stream",
     "text": [
      "<class 'requests.models.Response'>\n"
     ]
    }
   ],
   "source": [
    "print(type(response))"
   ]
  },
  {
   "cell_type": "markdown",
   "metadata": {},
   "source": [
    "### 1. Start by using either the inspector or by viewing the page source. Can you identify a tag that might be helpful for finding the names of all inductees? Make use of this to create a list containing just the names of each inductee."
   ]
  },
  {
   "cell_type": "code",
   "execution_count": 55,
   "metadata": {},
   "outputs": [
    {
     "name": "stdout",
     "output_type": "stream",
     "text": [
      "<title>Hall of Fame Members | Country Music Hall of Fame</title>\n"
     ]
    }
   ],
   "source": [
    "soup = BeautifulSoup(response.content, 'html.parser')\n",
    "print(soup.title)"
   ]
  },
  {
   "cell_type": "code",
   "execution_count": 107,
   "metadata": {},
   "outputs": [
    {
     "data": {
      "text/plain": [
       "[<h3>Roy Acuff</h3>,\n",
       " <h3>Alabama</h3>,\n",
       " <h3>Bill Anderson</h3>,\n",
       " <h3>Eddy Arnold</h3>,\n",
       " <h3>Chet Atkins</h3>,\n",
       " <h3>Gene Autry</h3>,\n",
       " <h3>DeFord Bailey</h3>,\n",
       " <h3>Bobby Bare</h3>,\n",
       " <h3>Johnny Bond</h3>]"
      ]
     },
     "execution_count": 107,
     "metadata": {},
     "output_type": "execute_result"
    }
   ],
   "source": [
    "#This finds the artists but does not come in cleanly\n",
    "results = soup.find_all('h3')\n",
    "results"
   ]
  },
  {
   "cell_type": "code",
   "execution_count": 109,
   "metadata": {},
   "outputs": [
    {
     "data": {
      "text/plain": [
       "bs4.element.ResultSet"
      ]
     },
     "execution_count": 109,
     "metadata": {},
     "output_type": "execute_result"
    }
   ],
   "source": [
    "type(results) #bs4.element.ResultSet\n",
    "#type(artists[0]) #bs4.element.Tag  \n",
    "#A Tag object corresponds to an XML or HTML tag in the original document\n"
   ]
  },
  {
   "cell_type": "code",
   "execution_count": 118,
   "metadata": {},
   "outputs": [],
   "source": [
    "#Use this for artists\n",
    "results = soup.find_all('h3')\n",
    "results\n",
    "\n",
    "artists = []\n",
    "for result in results:\n",
    "    name = result.text\n",
    "    artists.append(name)"
   ]
  },
  {
   "cell_type": "code",
   "execution_count": 111,
   "metadata": {},
   "outputs": [
    {
     "data": {
      "text/plain": [
       "9"
      ]
     },
     "execution_count": 111,
     "metadata": {},
     "output_type": "execute_result"
    }
   ],
   "source": [
    "len(artists)"
   ]
  },
  {
   "cell_type": "code",
   "execution_count": 119,
   "metadata": {},
   "outputs": [
    {
     "data": {
      "text/plain": [
       "['Roy Acuff',\n",
       " 'Alabama',\n",
       " 'Bill Anderson',\n",
       " 'Eddy Arnold',\n",
       " 'Chet Atkins',\n",
       " 'Gene Autry',\n",
       " 'DeFord Bailey',\n",
       " 'Bobby Bare',\n",
       " 'Johnny Bond']"
      ]
     },
     "execution_count": 119,
     "metadata": {},
     "output_type": "execute_result"
    }
   ],
   "source": [
    "artists"
   ]
  },
  {
   "cell_type": "code",
   "execution_count": 93,
   "metadata": {},
   "outputs": [
    {
     "data": {
      "text/plain": [
       "list"
      ]
     },
     "execution_count": 93,
     "metadata": {},
     "output_type": "execute_result"
    }
   ],
   "source": [
    "type(artists)"
   ]
  },
  {
   "cell_type": "markdown",
   "metadata": {},
   "source": [
    "### Next, try and find a tag that could be used to find the year that each member was inducted. Extract these into a list. When you do this, be sure to only include the year and not the full text. For example, for Roy Acuff, the list entry should be \"1962\" and not \"Inducted 1962\". Double-check that the resulting list has the correct number of elements and is in the same order as your inductees list."
   ]
  },
  {
   "cell_type": "code",
   "execution_count": 81,
   "metadata": {},
   "outputs": [
    {
     "name": "stdout",
     "output_type": "stream",
     "text": [
      "[<div class=\"vertical-card_content--copy\">\n",
      "<p>\n",
      "                    Inducted 1962                  </p>\n",
      "</div>, <div class=\"vertical-card_content--copy\">\n",
      "<p>\n",
      "                    Inducted 2005                  </p>\n",
      "</div>, <div class=\"vertical-card_content--copy\">\n",
      "<p>\n",
      "                    Inducted 2001                  </p>\n",
      "</div>, <div class=\"vertical-card_content--copy\">\n",
      "<p>\n",
      "                    Inducted 1966                  </p>\n",
      "</div>, <div class=\"vertical-card_content--copy\">\n",
      "<p>\n",
      "                    Inducted 1973                  </p>\n",
      "</div>, <div class=\"vertical-card_content--copy\">\n",
      "<p>\n",
      "                    Inducted 1969                  </p>\n",
      "</div>, <div class=\"vertical-card_content--copy\">\n",
      "<p>\n",
      "                    Inducted 2005                  </p>\n",
      "</div>, <div class=\"vertical-card_content--copy\">\n",
      "<p>\n",
      "                    Inducted 2013                  </p>\n",
      "</div>, <div class=\"vertical-card_content--copy\">\n",
      "<p>\n",
      "                    Inducted 1999                  </p>\n",
      "</div>]\n"
     ]
    }
   ],
   "source": [
    "years_list=soup.find_all('div', attrs={'class':'vertical-card_content--copy'})\n",
    "print(years_list)"
   ]
  },
  {
   "cell_type": "code",
   "execution_count": 113,
   "metadata": {},
   "outputs": [],
   "source": [
    "#Use this to get the year inducted\n",
    "year_inducted=[]\n",
    "\n",
    "years_list=soup.find_all('div', attrs={'class':'vertical-card_content--copy'})\n",
    "for year in years_list:\n",
    "    yearin = year.get_text()[30:35].strip()\n",
    "    year_inducted.append(yearin)"
   ]
  },
  {
   "cell_type": "code",
   "execution_count": null,
   "metadata": {},
   "outputs": [],
   "source": [
    "#alternative way to clean the years\n",
    "#year =[]\n",
    "#for x in inducted_year:\n",
    "#    year.append(x.strip().replace('Inducted ',\"\"))\n",
    "#year"
   ]
  },
  {
   "cell_type": "code",
   "execution_count": 115,
   "metadata": {},
   "outputs": [
    {
     "data": {
      "text/plain": [
       "['1962', '2005', '2001', '1966', '1973', '1969', '2005', '2013', '1999']"
      ]
     },
     "execution_count": 115,
     "metadata": {},
     "output_type": "execute_result"
    }
   ],
   "source": [
    "year_inducted"
   ]
  },
  {
   "cell_type": "code",
   "execution_count": 89,
   "metadata": {},
   "outputs": [
    {
     "data": {
      "text/plain": [
       "list"
      ]
     },
     "execution_count": 89,
     "metadata": {},
     "output_type": "execute_result"
    }
   ],
   "source": [
    "type(year_inducted)"
   ]
  },
  {
   "cell_type": "code",
   "execution_count": null,
   "metadata": {},
   "outputs": [],
   "source": []
  },
  {
   "cell_type": "markdown",
   "metadata": {},
   "source": [
    "### Take the two lists you created on parts 1 and 2 and convert it into a pandas DataFrame."
   ]
  },
  {
   "cell_type": "code",
   "execution_count": null,
   "metadata": {},
   "outputs": [],
   "source": [
    "#df = pd.DataFrame(list(zip(lst, lst2)),\n",
    "               columns =['Name', 'val'])"
   ]
  },
  {
   "cell_type": "code",
   "execution_count": 116,
   "metadata": {},
   "outputs": [],
   "source": [
    "results_together = pd.DataFrame(list(zip(artists, year_inducted)), columns = ['Artist', 'Year'])"
   ]
  },
  {
   "cell_type": "code",
   "execution_count": 117,
   "metadata": {},
   "outputs": [
    {
     "data": {
      "text/html": [
       "<div>\n",
       "<style scoped>\n",
       "    .dataframe tbody tr th:only-of-type {\n",
       "        vertical-align: middle;\n",
       "    }\n",
       "\n",
       "    .dataframe tbody tr th {\n",
       "        vertical-align: top;\n",
       "    }\n",
       "\n",
       "    .dataframe thead th {\n",
       "        text-align: right;\n",
       "    }\n",
       "</style>\n",
       "<table border=\"1\" class=\"dataframe\">\n",
       "  <thead>\n",
       "    <tr style=\"text-align: right;\">\n",
       "      <th></th>\n",
       "      <th>Artist</th>\n",
       "      <th>Year</th>\n",
       "    </tr>\n",
       "  </thead>\n",
       "  <tbody>\n",
       "    <tr>\n",
       "      <th>0</th>\n",
       "      <td>Roy Acuff</td>\n",
       "      <td>1962</td>\n",
       "    </tr>\n",
       "    <tr>\n",
       "      <th>1</th>\n",
       "      <td>Alabama</td>\n",
       "      <td>2005</td>\n",
       "    </tr>\n",
       "    <tr>\n",
       "      <th>2</th>\n",
       "      <td>Bill Anderson</td>\n",
       "      <td>2001</td>\n",
       "    </tr>\n",
       "    <tr>\n",
       "      <th>3</th>\n",
       "      <td>Eddy Arnold</td>\n",
       "      <td>1966</td>\n",
       "    </tr>\n",
       "    <tr>\n",
       "      <th>4</th>\n",
       "      <td>Chet Atkins</td>\n",
       "      <td>1973</td>\n",
       "    </tr>\n",
       "  </tbody>\n",
       "</table>\n",
       "</div>"
      ],
      "text/plain": [
       "          Artist  Year\n",
       "0      Roy Acuff  1962\n",
       "1        Alabama  2005\n",
       "2  Bill Anderson  2001\n",
       "3    Eddy Arnold  1966\n",
       "4    Chet Atkins  1973"
      ]
     },
     "execution_count": 117,
     "metadata": {},
     "output_type": "execute_result"
    }
   ],
   "source": [
    "results_together.head()"
   ]
  },
  {
   "cell_type": "markdown",
   "metadata": {},
   "source": [
    "### Take what you created for the first page and apply it across the rest of the pages so that you can scrape all inductees"
   ]
  },
  {
   "cell_type": "code",
   "execution_count": 120,
   "metadata": {},
   "outputs": [
    {
     "data": {
      "text/plain": [
       "'https://countrymusichalloffame.org/hall-of-fame/members/page/2'"
      ]
     },
     "execution_count": 120,
     "metadata": {},
     "output_type": "execute_result"
    }
   ],
   "source": [
    "#building blocks\n",
    "page='2'\n",
    "str = 'https://countrymusichalloffame.org/hall-of-fame/members/page/{}'\n",
    "\n",
    "#combine URL + page\n",
    "url=str.format(page)\n",
    "url"
   ]
  },
  {
   "cell_type": "code",
   "execution_count": 137,
   "metadata": {},
   "outputs": [],
   "source": [
    "#Testing with page 2 (this works!)\n",
    "\n",
    "#read the page into Python\n",
    "website_url = 'https://countrymusichalloffame.org/hall-of-fame/members/page/3'\n",
    "response = requests.get(website_url)\n",
    "\n",
    "soup = BeautifulSoup(response.content, 'html.parser')\n",
    "\n",
    "#Use this for artists\n",
    "artists = []\n",
    "\n",
    "artist_scrape = soup.find_all('h3')\n",
    "for x in artist_scrape:\n",
    "    name = x.text\n",
    "    artists.append(name)\n",
    "    \n",
    "#Use this to get the year inducted\n",
    "year_inducted=[]\n",
    "\n",
    "years_scrape=soup.find_all('div', attrs={'class':'vertical-card_content--copy'})\n",
    "for year in years_scrape:\n",
    "    yearin = year.get_text()[30:35].strip()\n",
    "    year_inducted.append(yearin)\n"
   ]
  },
  {
   "cell_type": "code",
   "execution_count": 138,
   "metadata": {},
   "outputs": [
    {
     "data": {
      "text/plain": [
       "['Boudleaux and Felice Bryant',\n",
       " 'Glen Campbell',\n",
       " 'Bill Carlisle',\n",
       " 'Carter Family',\n",
       " 'Johnny Cash',\n",
       " 'Roy Clark',\n",
       " 'Cowboy Jack Clement',\n",
       " 'Patsy Cline',\n",
       " 'Hank Cochran']"
      ]
     },
     "execution_count": 138,
     "metadata": {},
     "output_type": "execute_result"
    }
   ],
   "source": [
    "artists"
   ]
  },
  {
   "cell_type": "code",
   "execution_count": 139,
   "metadata": {},
   "outputs": [
    {
     "data": {
      "text/plain": [
       "['1991', '2005', '2002', '1970', '1980', '2009', '2013', '1973', '2014']"
      ]
     },
     "execution_count": 139,
     "metadata": {},
     "output_type": "execute_result"
    }
   ],
   "source": [
    "year_inducted"
   ]
  },
  {
   "cell_type": "markdown",
   "metadata": {},
   "source": [
    "### Once you have verified that your code will still work, write a for loop that will cycle through all 16 pages and build a DataFrame containing all inductees and the year of their induction."
   ]
  },
  {
   "cell_type": "code",
   "execution_count": 97,
   "metadata": {},
   "outputs": [],
   "source": [
    "page_list = []\n",
    "\n",
    "pages = [1,2,3,4,5,6,7,8,9,10,11,12,13,14,15,16]\n",
    "str = 'https://countrymusichalloffame.org/hall-of-fame/members/page/{}'\n",
    "\n",
    "for page in pages:\n",
    "    url = str.format(page)\n",
    "    page_list.append(url)"
   ]
  },
  {
   "cell_type": "code",
   "execution_count": 99,
   "metadata": {},
   "outputs": [
    {
     "data": {
      "text/plain": [
       "['https://countrymusichalloffame.org/hall-of-fame/members/page/1',\n",
       " 'https://countrymusichalloffame.org/hall-of-fame/members/page/2',\n",
       " 'https://countrymusichalloffame.org/hall-of-fame/members/page/3',\n",
       " 'https://countrymusichalloffame.org/hall-of-fame/members/page/4',\n",
       " 'https://countrymusichalloffame.org/hall-of-fame/members/page/5',\n",
       " 'https://countrymusichalloffame.org/hall-of-fame/members/page/6',\n",
       " 'https://countrymusichalloffame.org/hall-of-fame/members/page/7',\n",
       " 'https://countrymusichalloffame.org/hall-of-fame/members/page/8',\n",
       " 'https://countrymusichalloffame.org/hall-of-fame/members/page/9',\n",
       " 'https://countrymusichalloffame.org/hall-of-fame/members/page/10',\n",
       " 'https://countrymusichalloffame.org/hall-of-fame/members/page/11',\n",
       " 'https://countrymusichalloffame.org/hall-of-fame/members/page/12',\n",
       " 'https://countrymusichalloffame.org/hall-of-fame/members/page/13',\n",
       " 'https://countrymusichalloffame.org/hall-of-fame/members/page/14',\n",
       " 'https://countrymusichalloffame.org/hall-of-fame/members/page/15',\n",
       " 'https://countrymusichalloffame.org/hall-of-fame/members/page/16']"
      ]
     },
     "execution_count": 99,
     "metadata": {},
     "output_type": "execute_result"
    }
   ],
   "source": [
    "page_list"
   ]
  },
  {
   "cell_type": "code",
   "execution_count": 145,
   "metadata": {},
   "outputs": [],
   "source": [
    "#page_list = []\n",
    "\n",
    "#pages = [1,2,3,4,5,6,7,8,9,10,11,12,13,14,15,16]\n",
    "\n",
    "pages1 = np.arange(1,16,1)\n",
    "#str = 'https://countrymusichalloffame.org/hall-of-fame/members/page/{}'\n",
    "\n",
    "for page in pages1:\n",
    "    page = 'https://countrymusichalloffame.org/hall-of-fame/members/page/{}'\n",
    "    #driver = webdriver.Chrome()\n",
    "    #driver.get(page)\n",
    "    sleep(randint(5,15))\n",
    "    soup = BeautifulSoup(response.content, 'html.parser')\n",
    "    artist_scrape = soup.find_all('h3')\n",
    "    for x in artist_scrape:\n",
    "        name = x.text\n",
    "        artists.append(name)\n",
    "    years_scrape=soup.find_all('div', attrs={'class':'vertical-card_content--copy'})\n",
    "    for year in years_scrape:\n",
    "        yearin = year.get_text()[30:35].strip()\n",
    "        year_inducted.append(yearin)\n",
    "\n",
    "#Data Storage buckets\n",
    "artists = []\n",
    "year_inducted=[]\n",
    "\n",
    "\n"
   ]
  },
  {
   "cell_type": "code",
   "execution_count": 147,
   "metadata": {},
   "outputs": [
    {
     "data": {
      "text/plain": [
       "[]"
      ]
     },
     "execution_count": 147,
     "metadata": {},
     "output_type": "execute_result"
    }
   ],
   "source": [
    "artists"
   ]
  },
  {
   "cell_type": "code",
   "execution_count": null,
   "metadata": {},
   "outputs": [],
   "source": [
    "#Use this for artists\n",
    "artist_scrape = soup.find_all('h3')\n",
    "for x in artist_scrape:\n",
    "    name = x.text\n",
    "    artists.append(name)\n",
    "    \n",
    "    \n",
    "#Use this to get the year inducted\n",
    "years_scrape=soup.find_all('div', attrs={'class':'vertical-card_content--copy'})\n",
    "for year in years_scrape:\n",
    "    yearin = year.get_text()[30:35].strip()\n",
    "    year_inducted.append(yearin)\n"
   ]
  }
 ],
 "metadata": {
  "kernelspec": {
   "display_name": "Python 3",
   "language": "python",
   "name": "python3"
  },
  "language_info": {
   "codemirror_mode": {
    "name": "ipython",
    "version": 3
   },
   "file_extension": ".py",
   "mimetype": "text/x-python",
   "name": "python",
   "nbconvert_exporter": "python",
   "pygments_lexer": "ipython3",
   "version": "3.8.5"
  }
 },
 "nbformat": 4,
 "nbformat_minor": 4
}
